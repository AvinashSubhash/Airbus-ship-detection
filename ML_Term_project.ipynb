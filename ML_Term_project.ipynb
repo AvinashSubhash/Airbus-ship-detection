{
  "nbformat": 4,
  "nbformat_minor": 2,
  "metadata": {
    "colab": {
      "name": "ML_Term_project.ipynb",
      "provenance": []
    },
    "kernelspec": {
      "name": "python3",
      "display_name": "Python 3"
    },
    "language_info": {
      "name": "python"
    }
  },
  "cells": [
    {
      "cell_type": "code",
      "execution_count": null,
      "source": [
        "import os\n",
        "from PIL import Image\n",
        "import random\n",
        "import skimage.color\n",
        "import skimage.filters\n",
        "import skimage.io\n",
        "import numpy as np\n",
        "import pandas as pd"
      ],
      "outputs": [],
      "metadata": {
        "id": "nMOFtJN5C27e"
      }
    },
    {
      "cell_type": "code",
      "execution_count": null,
      "source": [
        "train_data = []\n",
        "for file in os.listdir('images/yes/'):\n",
        "    data_i=[]\n",
        "    if file[-1] == 'g':\n",
        "        imag = Image.open('images/yes/'+file)\n",
        "        imag.load()\n",
        "        data_i.append(np.array(imag))\n",
        "        data_i.append(1)\n",
        "        train_data.append(data_i)\n",
        "\n",
        "for file in os.listdir('images/no/'):\n",
        "    data_i=[]\n",
        "    if file[-1] == 'g':\n",
        "        imag = Image.open('images/no/'+file)\n",
        "        imag.load()\n",
        "        data_i.append(np.array(imag))\n",
        "        data_i.append(0)\n",
        "        train_data.append(data_i)\n",
        "random.shuffle(train_data)\n",
        "#train_data[0]"
      ],
      "outputs": [],
      "metadata": {
        "id": "Wq5SJezOH_uk"
      }
    },
    {
      "cell_type": "code",
      "execution_count": null,
      "source": [
        "def MeanPixelValue(image):\n",
        "  mean_val = np.zeros((768,768))\n",
        "  for i in range(768):\n",
        "    for j in range(768):\n",
        "      mean_val[i][j] = (int(image[i][j][0])+int(image[i][j][1])+int(image[i][j][2]))/3\n",
        "  return mean_val\n",
        "\n",
        "def Flatten(image):\n",
        "    image = image.reshape(-1,)\n",
        "    sum = image.sum()\n",
        "    return image\n",
        "\n",
        "def Enhance(image):\n",
        "    #image = skimage.io.imread(fname=image)\n",
        "    #skimage.io.imshow(image)\n",
        "    blur = skimage.color.rgb2gray(image)\n",
        "    blur = skimage.filters.gaussian(blur,sigma = 1.0)\n",
        "    t = skimage.filters.threshold_otsu(blur)\n",
        "    mask = blur > t\n",
        "    mask = mask.astype(int)\n",
        "    \n",
        "    return mask"
      ],
      "outputs": [],
      "metadata": {
        "id": "IYl8soTz2K_a"
      }
    },
    {
      "cell_type": "code",
      "execution_count": null,
      "source": [
        "y = []\n",
        "for i in range(len(train_data)):\n",
        "    #print(train_data[i][0].shape)\n",
        "    train_data[i][0] = MeanPixelValue(train_data[i][0])\n",
        "    train_data[i][0] = Enhance(train_data[i][0])\n",
        "    #skimage.io.imshow(train_data[i][0])\n",
        "    train_data[i][0] = Flatten(train_data[i][0])\n",
        "    y.append(train_data[i][1])\n",
        "    train_data[i] = train_data[i][0]\n",
        "    #print(train_data[i][0].shape)\n",
        "    "
      ],
      "outputs": [],
      "metadata": {
        "scrolled": true,
        "id": "17T6U_v_HM8r"
      }
    }
  ]
}